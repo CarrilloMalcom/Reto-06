{
 "cells": [
  {
   "cell_type": "markdown",
   "metadata": {},
   "source": [
    "# Reto 06"
   ]
  },
  {
   "cell_type": "markdown",
   "metadata": {},
   "source": [
    "## 1"
   ]
  },
  {
   "cell_type": "code",
   "execution_count": null,
   "metadata": {},
   "outputs": [],
   "source": [
    "import math\n",
    "p=math.pi\n",
    "def calcular_V(r1:float, r2:float, h:float)->float:\n",
    "    V1=(4/3)*p*(r1**3)\n",
    "    V2=(1/3)*p*(r2**2)*h\n",
    "    Vt=V1+V2\n",
    "    return Vt\n",
    "\n",
    "def calcular_SA(r1:float, r2:float, h:float)->int:\n",
    "    A1=4*p*(r1**2)\n",
    "    g=(h**2)+(r2**2)\n",
    "    g=g**0.5\n",
    "    A2=(p*r2*g)+(p*(r2**2))\n",
    "    At=A1+A2\n",
    "    return At\n",
    "\n",
    "if __name__==\"__main__\":\n",
    "    r1=float(input(\"Ingrese el radio de la esfera: \"))\n",
    "    r2=float(input(\"Ingrese el radio del cono: \"))\n",
    "    h=float(input(\"Ingrese la altura: \"))\n",
    "    Area=calcular_SA(r1,r2,h)\n",
    "    Volumen=calcular_V(r1,r2,h)\n",
    "    print(f\"El área superficial del solido es {Area} y el volumen es {Volumen}\")\n",
    "\n"
   ]
  },
  {
   "cell_type": "markdown",
   "metadata": {},
   "source": [
    "## 2."
   ]
  },
  {
   "cell_type": "code",
   "execution_count": null,
   "metadata": {},
   "outputs": [],
   "source": [
    "import math\n",
    "p=math.pi\n",
    "def calcular_A(r:float, b:float, a:float)->float:\n",
    "    A1=2*(p*(r**2))\n",
    "    A2=b*a\n",
    "    At=A1+A2\n",
    "    return At\n",
    "def calcular_P(r:float, b:float, a:float)->float:\n",
    "    P1=2*(2*p*r)\n",
    "    P2=(2*a)+(2*b)\n",
    "    Pt=P1+P2\n",
    "    return Pt\n",
    "\n",
    "if __name__ ==\"__main__\":\n",
    "    r=float(input(\"Ingrese el radio de los circulos: \"))\n",
    "    b=float(input(\"Ingrese el ancho del rectangulo: \"))\n",
    "    a=float(input(\"Ingrese la altura del rectangulo: \"))\n",
    "    Ar=calcular_A(r, b, a)\n",
    "    Per=calcular_P(r,b, a)\n",
    "    print(f\"El area de la figura es {Ar} y el perimetro es {Per}\")\n",
    "    "
   ]
  },
  {
   "cell_type": "markdown",
   "metadata": {},
   "source": [
    "## 3."
   ]
  },
  {
   "cell_type": "code",
   "execution_count": null,
   "metadata": {},
   "outputs": [],
   "source": [
    "n:int=1\n",
    "m:int=7\n",
    "k:int=6\n",
    "def carne_de_ave(N:int, M:int, K:int)->int:\n",
    "    Nkg=N*n\n",
    "    Mkg=M*m\n",
    "    Kkg=K*k\n",
    "    return Nkg+Mkg+Kkg\n",
    "\n",
    "if __name__==\"__main__\":\n",
    "    N=int(input(\"Ingrese la cantidad de gallinas: \"))\n",
    "    M=int(input(\"Ingrese la cantidad de gallos: \"))\n",
    "    K=int(input(\"Ingrese la cantidad de pollitos: \"))\n",
    "    carne=carne_de_ave(N,M,K)\n",
    "    print(f\"La cantidad de carne de aves es igual a {carne}\")"
   ]
  },
  {
   "cell_type": "markdown",
   "metadata": {},
   "source": [
    "## 4."
   ]
  },
  {
   "cell_type": "code",
   "execution_count": 40,
   "metadata": {},
   "outputs": [
    {
     "name": "stdout",
     "output_type": "stream",
     "text": [
      "Las vueltas de su compra son 70500 pesos\n"
     ]
    }
   ],
   "source": [
    "p:int=300\n",
    "m:int=3300\n",
    "h:int=350\n",
    "def calcular_vueltas(P:int, M:int, H:int, B:int)->int:\n",
    "    cnta=(P*p)+(M*m)+(H*h)\n",
    "    return B-cnta\n",
    "\n",
    "if __name__==\"__main__\":\n",
    "    P=int(input(\"Ingrese la cantidad de panes que le mandaron a comprar: \"))\n",
    "    M=int(input(\"Ingrese la cantidad de bolsas de leche que le mandaron a comprar: \"))\n",
    "    H=int(input(\"Ingrese la cantidad de huevos que le mandaron a comprar: \"))\n",
    "    B=int(input(\"Ingrese la cantidad de dinero que le dieron (Pesos): \"))\n",
    "    Residuo=calcular_vueltas(P,M,H,B)\n",
    "    if Residuo>0:\n",
    "        print(f\"Las vueltas de su compra son {Residuo} pesos\")\n",
    "    else:\n",
    "        Residuo=Residuo*(-1)\n",
    "        print(f\"Le hacen falta {Residuo} pesos para su compra\")"
   ]
  },
  {
   "cell_type": "markdown",
   "metadata": {},
   "source": [
    "## 5."
   ]
  },
  {
   "cell_type": "code",
   "execution_count": null,
   "metadata": {},
   "outputs": [],
   "source": [
    "def calcular_prestamo(C:int,i:int,n:int)->int:\n",
    "    return C*((1+(i/100))**n)\n",
    "\n",
    "def calcular_prestalt(C:int,i:int,n:int)->int:\n",
    "    prest=C\n",
    "    for j in range(n):\n",
    "        prest=prest+(prest*(i/100))\n",
    "    return prest\n",
    "\n",
    "if __name__==\"__main__\":\n",
    "    C=int(input(\"Ingrese el valor base del prestamo: \"))\n",
    "    i=int(input(\"Ingrese el valor del interés: \"))\n",
    "    n=int(input(\"Ingrese la cantidad de meses para el valor del prestamo: \"))\n",
    "    P=calcular_prestamo(C,i,n)\n",
    "    Palt=calcular_prestalt(C,i,n)\n",
    "    print(f\"El valor del prestamo es {P} \\n El valor es {Palt}\")"
   ]
  },
  {
   "cell_type": "markdown",
   "metadata": {},
   "source": [
    "## 6."
   ]
  },
  {
   "cell_type": "code",
   "execution_count": null,
   "metadata": {},
   "outputs": [],
   "source": [
    "def numero_contagiados(D:int, C:int)->int:\n",
    "    cont=C\n",
    "    for j in range (D):\n",
    "        cont=cont*2\n",
    "    return cont\n",
    "\n",
    "if __name__ ==\"__main__\":\n",
    "    C=int(input(\"Ingrese el numero actual de contagiados: \"))\n",
    "    D=int(input(\"Ingrese el numero de dias para la predicción de contagiados: \"))\n",
    "    cont=numero_contagiados(D, C)\n",
    "    print(f\"El numero de contagiados dentro de {D} dias si el numero actual son {C} contagiados serán {cont}\")"
   ]
  },
  {
   "cell_type": "markdown",
   "metadata": {},
   "source": [
    "## 7."
   ]
  },
  {
   "cell_type": "code",
   "execution_count": 1,
   "metadata": {},
   "outputs": [
    {
     "name": "stdout",
     "output_type": "stream",
     "text": [
      "El promedio de los numeros es 6.4\n",
      "La mediana de los numeros es 6\n",
      "El promedio multiplicativo de los numeros es 92.951600308978\n",
      "El orden ascendente de los numeros es [4, 5, 6, 8, 9]\n",
      "El orden descendente de los numeros es [9, 8, 6, 5, 4]\n",
      "La potencia del numero mayor elevado al menor de los numeros es 1\n",
      "La raiz cubica del numero menor es 1.5874010519681994\n",
      "9\n",
      "4\n",
      "6561\n"
     ]
    }
   ],
   "source": [
    "from Funciones_reto06 import promedio, promedio_multiplicativo, potencia_mayor_al_menor, orden_ascendente, orden_descendente, mediana, raiz_del_menor\n",
    "\n",
    "\n",
    "if __name__==\"__main__\":\n",
    "    a=int(input())\n",
    "    b=int(input())\n",
    "    c=int(input())\n",
    "    d=int(input())\n",
    "    e=int(input())\n",
    "    promed=promedio(a,b,c,d,e)\n",
    "    median=mediana(a,b,c,d,e)\n",
    "    promultip=promedio_multiplicativo(a,b,c,d,e)\n",
    "    asc=orden_ascendente(a,b,c,d,e)\n",
    "    desc=orden_descendente(a,b,c,d,e)\n",
    "    potencia=potencia_mayor_al_menor(a,b,c,d,e)\n",
    "    raiz=raiz_del_menor(a,b,c,d,e)\n",
    "\n",
    "    print(f\"El promedio de los numeros es {promed}\")\n",
    "    print(f\"La mediana de los numeros es {median}\")\n",
    "    print(f\"El promedio multiplicativo de los numeros es {promultip}\")\n",
    "    print(f\"El orden ascendente de los numeros es {asc}\")\n",
    "    print(f\"El orden descendente de los numeros es {desc}\")\n",
    "    print(f\"La potencia del numero mayor elevado al menor de los numeros es {potencia}\")\n",
    "    print(f\"La raiz cubica del numero menor es {raiz}\")\n",
    "\n"
   ]
  }
 ],
 "metadata": {
  "kernelspec": {
   "display_name": "Python 3",
   "language": "python",
   "name": "python3"
  },
  "language_info": {
   "codemirror_mode": {
    "name": "ipython",
    "version": 3
   },
   "file_extension": ".py",
   "mimetype": "text/x-python",
   "name": "python",
   "nbconvert_exporter": "python",
   "pygments_lexer": "ipython3",
   "version": "3.11.6"
  }
 },
 "nbformat": 4,
 "nbformat_minor": 2
}
